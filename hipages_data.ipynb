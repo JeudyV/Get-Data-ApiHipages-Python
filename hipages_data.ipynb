{
 "cells": [
  {
   "cell_type": "code",
   "execution_count": null,
   "metadata": {},
   "outputs": [],
   "source": [
    "# import requests\n",
    "import json\n",
    "import pandas as pd\n",
    "import csv\n",
    "import os.path\n",
    "\n",
    "def get_data_hipages():\n",
    "    \n",
    "    l = []\n",
    "    \n",
    "    pagination = 0\n",
    "    \n",
    "    for x in range(5):\n",
    "        pagination += 1\n",
    "    \n",
    "        url = \"https://hipages.com.au/api/directory/sites?suburb=perth&state=wa&category=8&page={}&perpage=10&code=111d887415230e233b23fdaae8e160d62715d99d7c417a33c1ca27c0b47b3a6ce810db7af2cec77fe5a629d12ad9cc68\".format(pagination)\n",
    "\n",
    "        payload = {}\n",
    "        headers= {}\n",
    "\n",
    "        response = requests.request(\"GET\", url, headers=headers, data = payload)\n",
    "\n",
    "        json_data = json.loads(response.text)\n",
    "        \n",
    "       \n",
    "        \n",
    "        for x in json_data:\n",
    "            print(type(x))\n",
    "            del x['link']\n",
    "            del x['requestAQuoteLink']\n",
    "            del x['makeAnEnquiryLink']\n",
    "            del x['thumbLink']\n",
    "            del x['recommendationTrackLink']\n",
    "            l.append(x)\n",
    "    print(l)\n",
    "    df = pd.DataFrame(l)\n",
    "    df.to_csv('nombre8.csv', index=False, header=False, mode='a')\n",
    "\n",
    "get_data()"
   ]
  }
 ],
 "metadata": {
  "kernelspec": {
   "display_name": "venv_hipages",
   "language": "python",
   "name": "venv_hipages"
  },
  "language_info": {
   "codemirror_mode": {
    "name": "ipython",
    "version": 3
   },
   "file_extension": ".py",
   "mimetype": "text/x-python",
   "name": "python",
   "nbconvert_exporter": "python",
   "pygments_lexer": "ipython3",
   "version": "3.7.5rc1"
  }
 },
 "nbformat": 4,
 "nbformat_minor": 2
}
